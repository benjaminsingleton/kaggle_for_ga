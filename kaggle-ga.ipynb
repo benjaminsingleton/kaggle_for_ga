{
 "cells": [
  {
   "cell_type": "markdown",
   "metadata": {},
   "source": [
    "# General Assembly DAT-28 Kaggle Competition"
   ]
  },
  {
   "cell_type": "code",
   "execution_count": 1,
   "metadata": {
    "collapsed": true
   },
   "outputs": [],
   "source": [
    "import pandas as pd\n",
    "import numpy as np"
   ]
  },
  {
   "cell_type": "code",
   "execution_count": 2,
   "metadata": {
    "collapsed": false
   },
   "outputs": [
    {
     "name": "stdout",
     "output_type": "stream",
     "text": [
      "kaggle-ga.ipynb   submission2.csv   submission_1.csv  \u001b[31mtest.csv\u001b[m\u001b[m*         train.csv\r\n"
     ]
    }
   ],
   "source": [
    "ls"
   ]
  },
  {
   "cell_type": "code",
   "execution_count": 3,
   "metadata": {
    "collapsed": false
   },
   "outputs": [],
   "source": [
    "df = pd.read_table('train.csv', sep=',', parse_dates=[1,3,13], nrows=100000)"
   ]
  },
  {
   "cell_type": "code",
   "execution_count": 4,
   "metadata": {
    "collapsed": false
   },
   "outputs": [
    {
     "data": {
      "text/html": [
       "<div>\n",
       "<table border=\"1\" class=\"dataframe\">\n",
       "  <thead>\n",
       "    <tr style=\"text-align: right;\">\n",
       "      <th></th>\n",
       "      <th>Id</th>\n",
       "      <th>PostCreationDate</th>\n",
       "      <th>OwnerUserId</th>\n",
       "      <th>OwnerCreationDate</th>\n",
       "      <th>ReputationAtPostCreation</th>\n",
       "      <th>OwnerUndeletedAnswerCountAtPostTime</th>\n",
       "      <th>Title</th>\n",
       "      <th>BodyMarkdown</th>\n",
       "      <th>Tag1</th>\n",
       "      <th>Tag2</th>\n",
       "      <th>Tag3</th>\n",
       "      <th>Tag4</th>\n",
       "      <th>Tag5</th>\n",
       "      <th>PostClosedDate</th>\n",
       "      <th>OpenStatus</th>\n",
       "    </tr>\n",
       "  </thead>\n",
       "  <tbody>\n",
       "    <tr>\n",
       "      <th>0</th>\n",
       "      <td>6458464</td>\n",
       "      <td>2011-06-23 17:53:27</td>\n",
       "      <td>663229</td>\n",
       "      <td>2011-03-16 20:19:28</td>\n",
       "      <td>210</td>\n",
       "      <td>0</td>\n",
       "      <td>Generating HTML</td>\n",
       "      <td>\\t &lt;form action=post ...&gt;\\r\\r\\n         //...</td>\n",
       "      <td>html</td>\n",
       "      <td>c</td>\n",
       "      <td>NaN</td>\n",
       "      <td>NaN</td>\n",
       "      <td>NaN</td>\n",
       "      <td>NaT</td>\n",
       "      <td>open</td>\n",
       "    </tr>\n",
       "    <tr>\n",
       "      <th>1</th>\n",
       "      <td>4251761</td>\n",
       "      <td>2010-11-23 00:58:05</td>\n",
       "      <td>200477</td>\n",
       "      <td>2009-11-01 12:41:57</td>\n",
       "      <td>1715</td>\n",
       "      <td>13</td>\n",
       "      <td>Execute automake from eclipse autotools plugin</td>\n",
       "      <td>I recently installed the autotools plugin for ...</td>\n",
       "      <td>c</td>\n",
       "      <td>eclipse</td>\n",
       "      <td>autotools</td>\n",
       "      <td>NaN</td>\n",
       "      <td>NaN</td>\n",
       "      <td>NaT</td>\n",
       "      <td>open</td>\n",
       "    </tr>\n",
       "    <tr>\n",
       "      <th>2</th>\n",
       "      <td>10187289</td>\n",
       "      <td>2012-04-17 07:55:22</td>\n",
       "      <td>1338090</td>\n",
       "      <td>2012-04-17 07:25:28</td>\n",
       "      <td>1</td>\n",
       "      <td>0</td>\n",
       "      <td>wxPython TextCtrl auto detect file/folder path</td>\n",
       "      <td>I'm looking for a way that path (Window or Lin...</td>\n",
       "      <td>wxpython</td>\n",
       "      <td>textctrl</td>\n",
       "      <td>NaN</td>\n",
       "      <td>NaN</td>\n",
       "      <td>NaN</td>\n",
       "      <td>2012-04-18 12:04:40</td>\n",
       "      <td>not a real question</td>\n",
       "    </tr>\n",
       "    <tr>\n",
       "      <th>3</th>\n",
       "      <td>10812620</td>\n",
       "      <td>2012-05-30 08:27:16</td>\n",
       "      <td>348545</td>\n",
       "      <td>2010-05-23 23:06:20</td>\n",
       "      <td>4290</td>\n",
       "      <td>75</td>\n",
       "      <td>Benefits of avoiding .pyc files?</td>\n",
       "      <td>Are there any benefits, performance or otherwi...</td>\n",
       "      <td>python</td>\n",
       "      <td>NaN</td>\n",
       "      <td>NaN</td>\n",
       "      <td>NaN</td>\n",
       "      <td>NaN</td>\n",
       "      <td>NaT</td>\n",
       "      <td>open</td>\n",
       "    </tr>\n",
       "    <tr>\n",
       "      <th>4</th>\n",
       "      <td>10824532</td>\n",
       "      <td>2012-05-30 21:28:41</td>\n",
       "      <td>1423020</td>\n",
       "      <td>2012-05-29 06:49:48</td>\n",
       "      <td>1</td>\n",
       "      <td>0</td>\n",
       "      <td>threads with readline</td>\n",
       "      <td>I have a huge file with hundreds of thousands ...</td>\n",
       "      <td>python</td>\n",
       "      <td>python-2.7</td>\n",
       "      <td>NaN</td>\n",
       "      <td>NaN</td>\n",
       "      <td>NaN</td>\n",
       "      <td>NaT</td>\n",
       "      <td>open</td>\n",
       "    </tr>\n",
       "  </tbody>\n",
       "</table>\n",
       "</div>"
      ],
      "text/plain": [
       "         Id    PostCreationDate  OwnerUserId   OwnerCreationDate  \\\n",
       "0   6458464 2011-06-23 17:53:27       663229 2011-03-16 20:19:28   \n",
       "1   4251761 2010-11-23 00:58:05       200477 2009-11-01 12:41:57   \n",
       "2  10187289 2012-04-17 07:55:22      1338090 2012-04-17 07:25:28   \n",
       "3  10812620 2012-05-30 08:27:16       348545 2010-05-23 23:06:20   \n",
       "4  10824532 2012-05-30 21:28:41      1423020 2012-05-29 06:49:48   \n",
       "\n",
       "   ReputationAtPostCreation  OwnerUndeletedAnswerCountAtPostTime  \\\n",
       "0                       210                                    0   \n",
       "1                      1715                                   13   \n",
       "2                         1                                    0   \n",
       "3                      4290                                   75   \n",
       "4                         1                                    0   \n",
       "\n",
       "                                            Title  \\\n",
       "0                                 Generating HTML   \n",
       "1  Execute automake from eclipse autotools plugin   \n",
       "2  wxPython TextCtrl auto detect file/folder path   \n",
       "3                Benefits of avoiding .pyc files?   \n",
       "4                           threads with readline   \n",
       "\n",
       "                                        BodyMarkdown      Tag1        Tag2  \\\n",
       "0      \\t <form action=post ...>\\r\\r\\n         //...      html           c   \n",
       "1  I recently installed the autotools plugin for ...         c     eclipse   \n",
       "2  I'm looking for a way that path (Window or Lin...  wxpython    textctrl   \n",
       "3  Are there any benefits, performance or otherwi...    python         NaN   \n",
       "4  I have a huge file with hundreds of thousands ...    python  python-2.7   \n",
       "\n",
       "        Tag3 Tag4 Tag5      PostClosedDate           OpenStatus  \n",
       "0        NaN  NaN  NaN                 NaT                 open  \n",
       "1  autotools  NaN  NaN                 NaT                 open  \n",
       "2        NaN  NaN  NaN 2012-04-18 12:04:40  not a real question  \n",
       "3        NaN  NaN  NaN                 NaT                 open  \n",
       "4        NaN  NaN  NaN                 NaT                 open  "
      ]
     },
     "execution_count": 4,
     "metadata": {},
     "output_type": "execute_result"
    }
   ],
   "source": [
    "df.head()"
   ]
  },
  {
   "cell_type": "code",
   "execution_count": 5,
   "metadata": {
    "collapsed": false
   },
   "outputs": [
    {
     "name": "stdout",
     "output_type": "stream",
     "text": [
      "<class 'pandas.core.frame.DataFrame'>\n",
      "Int64Index: 100000 entries, 0 to 99999\n",
      "Data columns (total 15 columns):\n",
      "Id                                     100000 non-null int64\n",
      "PostCreationDate                       100000 non-null datetime64[ns]\n",
      "OwnerUserId                            100000 non-null int64\n",
      "OwnerCreationDate                      100000 non-null datetime64[ns]\n",
      "ReputationAtPostCreation               100000 non-null int64\n",
      "OwnerUndeletedAnswerCountAtPostTime    100000 non-null int64\n",
      "Title                                  100000 non-null object\n",
      "BodyMarkdown                           100000 non-null object\n",
      "Tag1                                   100000 non-null object\n",
      "Tag2                                   84455 non-null object\n",
      "Tag3                                   58840 non-null object\n",
      "Tag4                                   30949 non-null object\n",
      "Tag5                                   12142 non-null object\n",
      "PostClosedDate                         2079 non-null datetime64[ns]\n",
      "OpenStatus                             100000 non-null object\n",
      "dtypes: datetime64[ns](3), int64(4), object(8)\n",
      "memory usage: 12.2+ MB\n"
     ]
    }
   ],
   "source": [
    "df.info()"
   ]
  },
  {
   "cell_type": "code",
   "execution_count": 6,
   "metadata": {
    "collapsed": false
   },
   "outputs": [
    {
     "data": {
      "text/plain": [
       "open                   97921\n",
       "not a real question      927\n",
       "off topic                528\n",
       "not constructive         438\n",
       "too localized            186\n",
       "Name: OpenStatus, dtype: int64"
      ]
     },
     "execution_count": 6,
     "metadata": {},
     "output_type": "execute_result"
    }
   ],
   "source": [
    "df['OpenStatus'].value_counts()"
   ]
  },
  {
   "cell_type": "code",
   "execution_count": 7,
   "metadata": {
    "collapsed": false
   },
   "outputs": [],
   "source": [
    "df['ClosedStatus'] = df['OpenStatus'].apply(lambda x: 0 if x == 'open' else 1)"
   ]
  },
  {
   "cell_type": "markdown",
   "metadata": {},
   "source": [
    "## DummyClassifier"
   ]
  },
  {
   "cell_type": "code",
   "execution_count": 65,
   "metadata": {
    "collapsed": false
   },
   "outputs": [
    {
     "name": "stdout",
     "output_type": "stream",
     "text": [
      "Log Loss: 0.708735691624\n",
      "Accuracy Score: 0.97948\n",
      "F1 Score: 0.5\n"
     ]
    }
   ],
   "source": [
    "from sklearn.dummy import DummyClassifier\n",
    "from sklearn.cross_validation import train_test_split\n",
    "from sklearn.metrics import log_loss, accuracy_score, f1_score, precision_recall_fscore_support, roc_auc_score\n",
    "\n",
    "X_train, X_test, y_train, y_test = train_test_split(df['Id'].values, df['ClosedStatus'].values)\n",
    "\n",
    "dumb = DummyClassifier(strategy='most_frequent') #stratified\n",
    "dumb.fit(X_train, y_train)\n",
    "y_dumb_class = dumb.predict(X_test[:,None])\n",
    "\n",
    "print ('Log Loss:', log_loss(y_test, y_dumb_class))\n",
    "print ('Accuracy Score:', accuracy_score(y_test, y_dumb_class))\n",
    "print ('ROC Score:', roc_auc_score(y_test, y_dumb_class))"
   ]
  },
  {
   "cell_type": "markdown",
   "metadata": {},
   "source": [
    "## Clean Data & Feature Engineering"
   ]
  },
  {
   "cell_type": "code",
   "execution_count": 9,
   "metadata": {
    "collapsed": false
   },
   "outputs": [],
   "source": [
    "import re\n",
    "\n",
    "def clean_data(df):\n",
    "\n",
    "    def remove_tags_and_format(text):\n",
    "        text = re.sub('<[^<]+?>', '', text)\n",
    "        text = re.sub( '\\s+', ' ', text).strip()\n",
    "        return text\n",
    "\n",
    "    df['BodyMarkdown_clean'] = df['BodyMarkdown'].apply(remove_tags_and_format)\n",
    "    \n",
    "    df['Tags'] = df[['Tag1', 'Tag2', 'Tag3', 'Tag4', 'Tag5']].fillna('').apply(lambda x: ' '.join(x), axis=1)\n",
    "    \n",
    "    # days between date account created and date question posted\n",
    "    df['AccountCreationPostCreationDiff'] = np.abs(df['OwnerCreationDate'] - df['PostCreationDate']).dt.days\n",
    "    \n",
    "    df['Title_len'] = df['Title'].str.len()\n",
    "    df['BodyMarkdown_len'] = df['Title'].str.len()\n",
    "    df['Tags_len'] = df['Tags'].apply(lambda x: len(x.split()))\n",
    "    \n",
    "    return df"
   ]
  },
  {
   "cell_type": "code",
   "execution_count": 10,
   "metadata": {
    "collapsed": false
   },
   "outputs": [],
   "source": [
    "df = clean_data(df)"
   ]
  },
  {
   "cell_type": "code",
   "execution_count": 11,
   "metadata": {
    "collapsed": false
   },
   "outputs": [
    {
     "name": "stdout",
     "output_type": "stream",
     "text": [
      "<class 'pandas.core.frame.DataFrame'>\n",
      "Int64Index: 100000 entries, 0 to 99999\n",
      "Data columns (total 22 columns):\n",
      "Id                                     100000 non-null int64\n",
      "PostCreationDate                       100000 non-null datetime64[ns]\n",
      "OwnerUserId                            100000 non-null int64\n",
      "OwnerCreationDate                      100000 non-null datetime64[ns]\n",
      "ReputationAtPostCreation               100000 non-null int64\n",
      "OwnerUndeletedAnswerCountAtPostTime    100000 non-null int64\n",
      "Title                                  100000 non-null object\n",
      "BodyMarkdown                           100000 non-null object\n",
      "Tag1                                   100000 non-null object\n",
      "Tag2                                   84455 non-null object\n",
      "Tag3                                   58840 non-null object\n",
      "Tag4                                   30949 non-null object\n",
      "Tag5                                   12142 non-null object\n",
      "PostClosedDate                         2079 non-null datetime64[ns]\n",
      "OpenStatus                             100000 non-null object\n",
      "ClosedStatus                           100000 non-null int64\n",
      "BodyMarkdown_clean                     100000 non-null object\n",
      "Tags                                   100000 non-null object\n",
      "AccountCreationPostCreationDiff        100000 non-null int64\n",
      "Title_len                              100000 non-null int64\n",
      "BodyMarkdown_len                       100000 non-null int64\n",
      "Tags_len                               100000 non-null int64\n",
      "dtypes: datetime64[ns](3), int64(9), object(10)\n",
      "memory usage: 17.5+ MB\n"
     ]
    }
   ],
   "source": [
    "df.info()"
   ]
  },
  {
   "cell_type": "markdown",
   "metadata": {},
   "source": [
    "## Random Forest Classifier"
   ]
  },
  {
   "cell_type": "code",
   "execution_count": 12,
   "metadata": {
    "collapsed": true
   },
   "outputs": [],
   "source": [
    "from sklearn.ensemble import RandomForestClassifier"
   ]
  },
  {
   "cell_type": "code",
   "execution_count": 13,
   "metadata": {
    "collapsed": true
   },
   "outputs": [],
   "source": [
    "X = df[['ReputationAtPostCreation', \n",
    "        'OwnerUndeletedAnswerCountAtPostTime', \n",
    "        'AccountCreationPostCreationDiff',\n",
    "        'Title_len',\n",
    "        'BodyMarkdown_len',\n",
    "        'Tags_len']]\n",
    "y = df['ClosedStatus']\n",
    "\n",
    "X_train, X_test, y_train, y_test = train_test_split(X, y, random_state=1)"
   ]
  },
  {
   "cell_type": "code",
   "execution_count": 14,
   "metadata": {
    "collapsed": true
   },
   "outputs": [],
   "source": [
    "rfclf = RandomForestClassifier(n_estimators=400, n_jobs=-1)"
   ]
  },
  {
   "cell_type": "code",
   "execution_count": 15,
   "metadata": {
    "collapsed": false
   },
   "outputs": [
    {
     "data": {
      "text/plain": [
       "RandomForestClassifier(bootstrap=True, class_weight=None, criterion='gini',\n",
       "            max_depth=None, max_features='auto', max_leaf_nodes=None,\n",
       "            min_samples_leaf=1, min_samples_split=2,\n",
       "            min_weight_fraction_leaf=0.0, n_estimators=400, n_jobs=-1,\n",
       "            oob_score=False, random_state=None, verbose=0,\n",
       "            warm_start=False)"
      ]
     },
     "execution_count": 15,
     "metadata": {},
     "output_type": "execute_result"
    }
   ],
   "source": [
    "rfclf.fit(X_train, y_train)"
   ]
  },
  {
   "cell_type": "code",
   "execution_count": 16,
   "metadata": {
    "collapsed": false
   },
   "outputs": [],
   "source": [
    "y_pred_rfclf = rfclf.predict_proba(X_test)"
   ]
  },
  {
   "cell_type": "code",
   "execution_count": 17,
   "metadata": {
    "collapsed": false
   },
   "outputs": [
    {
     "name": "stdout",
     "output_type": "stream",
     "text": [
      "Log Loss: 0.236627055062\n"
     ]
    }
   ],
   "source": [
    "print ('Log Loss:', log_loss(y_test, y_pred_rfclf))\n",
    "print ('ROC Score:', roc_auc_score(y_test, y_pred_rfclf))"
   ]
  },
  {
   "cell_type": "markdown",
   "metadata": {},
   "source": [
    "## Naive Bayes Classifier on Title Classifier"
   ]
  },
  {
   "cell_type": "code",
   "execution_count": 18,
   "metadata": {
    "collapsed": true
   },
   "outputs": [],
   "source": [
    "from sklearn.feature_extraction.text import CountVectorizer\n",
    "from sklearn.feature_extraction.text import TfidfVectorizer\n",
    "from sklearn.naive_bayes import MultinomialNB"
   ]
  },
  {
   "cell_type": "code",
   "execution_count": 19,
   "metadata": {
    "collapsed": true
   },
   "outputs": [],
   "source": [
    "# define X and y\n",
    "X = df['Title'].values"
   ]
  },
  {
   "cell_type": "code",
   "execution_count": 20,
   "metadata": {
    "collapsed": true
   },
   "outputs": [],
   "source": [
    "X_train, X_test, y_train, y_test = train_test_split(X, y, random_state=1)"
   ]
  },
  {
   "cell_type": "code",
   "execution_count": 21,
   "metadata": {
    "collapsed": true
   },
   "outputs": [],
   "source": [
    "vect_title = TfidfVectorizer(stop_words='english')"
   ]
  },
  {
   "cell_type": "code",
   "execution_count": 22,
   "metadata": {
    "collapsed": false
   },
   "outputs": [],
   "source": [
    "# fit and transform X_train\n",
    "X_train_dtm = vect_title.fit_transform(X_train)"
   ]
  },
  {
   "cell_type": "code",
   "execution_count": 23,
   "metadata": {
    "collapsed": false
   },
   "outputs": [
    {
     "data": {
      "text/plain": [
       "MultinomialNB(alpha=1.0, class_prior=None, fit_prior=True)"
      ]
     },
     "execution_count": 23,
     "metadata": {},
     "output_type": "execute_result"
    }
   ],
   "source": [
    "# import/instantiate/fit\n",
    "nb_title = MultinomialNB()\n",
    "nb_title.fit(X_train_dtm, y_train)"
   ]
  },
  {
   "cell_type": "code",
   "execution_count": 24,
   "metadata": {
    "collapsed": true
   },
   "outputs": [],
   "source": [
    "# make class predictions\n",
    "X_test_dtm = vect_title.transform(X_test)\n",
    "y_pred_nb_title = nb_title.predict_proba(X_test_dtm)"
   ]
  },
  {
   "cell_type": "code",
   "execution_count": 25,
   "metadata": {
    "collapsed": false
   },
   "outputs": [
    {
     "name": "stdout",
     "output_type": "stream",
     "text": [
      "Log Loss: 0.126609592816\n"
     ]
    }
   ],
   "source": [
    "print ('Log Loss:', log_loss(y_test, y_pred_nb_title))\n",
    "print ('ROC Score:', roc_auc_score(y_test, y_pred_nb_title))"
   ]
  },
  {
   "cell_type": "markdown",
   "metadata": {},
   "source": [
    "## Naive Bayes Classifier on Body Feature"
   ]
  },
  {
   "cell_type": "code",
   "execution_count": 26,
   "metadata": {
    "collapsed": true
   },
   "outputs": [],
   "source": [
    "X = df['BodyMarkdown_clean'].values"
   ]
  },
  {
   "cell_type": "code",
   "execution_count": 27,
   "metadata": {
    "collapsed": false
   },
   "outputs": [],
   "source": [
    "vect_body = TfidfVectorizer(stop_words='english')"
   ]
  },
  {
   "cell_type": "code",
   "execution_count": 28,
   "metadata": {
    "collapsed": true
   },
   "outputs": [],
   "source": [
    "X_train, X_test, y_train, y_test = train_test_split(X, y, random_state=1)"
   ]
  },
  {
   "cell_type": "code",
   "execution_count": 29,
   "metadata": {
    "collapsed": true
   },
   "outputs": [],
   "source": [
    "# fit and transform X_train\n",
    "X_train_dtm = vect_body.fit_transform(X_train)"
   ]
  },
  {
   "cell_type": "code",
   "execution_count": 30,
   "metadata": {
    "collapsed": false
   },
   "outputs": [
    {
     "data": {
      "text/plain": [
       "MultinomialNB(alpha=1.0, class_prior=None, fit_prior=True)"
      ]
     },
     "execution_count": 30,
     "metadata": {},
     "output_type": "execute_result"
    }
   ],
   "source": [
    "nb_body = MultinomialNB()\n",
    "nb_body.fit(X_train_dtm, y_train)"
   ]
  },
  {
   "cell_type": "code",
   "execution_count": 31,
   "metadata": {
    "collapsed": true
   },
   "outputs": [],
   "source": [
    "# make class predictions\n",
    "X_test_dtm = vect_body.transform(X_test)\n",
    "y_pred_nb_body = nb_body.predict_proba(X_test_dtm)"
   ]
  },
  {
   "cell_type": "code",
   "execution_count": 32,
   "metadata": {
    "collapsed": false
   },
   "outputs": [
    {
     "name": "stdout",
     "output_type": "stream",
     "text": [
      "Log Loss: 0.260638666952\n"
     ]
    }
   ],
   "source": [
    "print ('Log Loss:', log_loss(y_test, y_pred_nb_body))\n",
    "print ('ROC Score:', roc_auc_score(y_test, y_pred_nb_body))"
   ]
  },
  {
   "cell_type": "markdown",
   "metadata": {},
   "source": [
    "## Naive Bayes Classifier on Tags Feature"
   ]
  },
  {
   "cell_type": "code",
   "execution_count": 33,
   "metadata": {
    "collapsed": true
   },
   "outputs": [],
   "source": [
    "X = df['Tags'].values"
   ]
  },
  {
   "cell_type": "code",
   "execution_count": 34,
   "metadata": {
    "collapsed": true
   },
   "outputs": [],
   "source": [
    "vect_tags = TfidfVectorizer()"
   ]
  },
  {
   "cell_type": "code",
   "execution_count": 35,
   "metadata": {
    "collapsed": true
   },
   "outputs": [],
   "source": [
    "X_train, X_test, y_train, y_test = train_test_split(X, y, random_state=1)"
   ]
  },
  {
   "cell_type": "code",
   "execution_count": 36,
   "metadata": {
    "collapsed": true
   },
   "outputs": [],
   "source": [
    "# fit and transform X_train\n",
    "X_train_dtm = vect_tags.fit_transform(X_train)"
   ]
  },
  {
   "cell_type": "code",
   "execution_count": 37,
   "metadata": {
    "collapsed": false
   },
   "outputs": [
    {
     "data": {
      "text/plain": [
       "MultinomialNB(alpha=1.0, class_prior=None, fit_prior=True)"
      ]
     },
     "execution_count": 37,
     "metadata": {},
     "output_type": "execute_result"
    }
   ],
   "source": [
    "nb_tags = MultinomialNB()\n",
    "nb_tags.fit(X_train_dtm, y_train)"
   ]
  },
  {
   "cell_type": "code",
   "execution_count": 38,
   "metadata": {
    "collapsed": true
   },
   "outputs": [],
   "source": [
    "# make class predictions\n",
    "X_test_dtm = vect_tags.transform(X_test)\n",
    "y_pred_nb_tags = nb_tags.predict_proba(X_test_dtm)"
   ]
  },
  {
   "cell_type": "code",
   "execution_count": 39,
   "metadata": {
    "collapsed": false
   },
   "outputs": [
    {
     "name": "stdout",
     "output_type": "stream",
     "text": [
      "Log Loss: 0.110849678695\n"
     ]
    }
   ],
   "source": [
    "print ('Log Loss:', log_loss(y_test, y_pred_nb_tags))\n",
    "print ('ROC Score:', roc_auc_score(y_test, y_pred_nb_tags))"
   ]
  },
  {
   "cell_type": "markdown",
   "metadata": {},
   "source": [
    "## Combine Predicted Probabilites into DataFrame"
   ]
  },
  {
   "cell_type": "code",
   "execution_count": 40,
   "metadata": {
    "collapsed": false
   },
   "outputs": [
    {
     "data": {
      "text/plain": [
       "array([ 0.0014495 ,  0.00344133,  0.00365125, ...,  0.00072573,\n",
       "        0.00382046,  0.00242485])"
      ]
     },
     "execution_count": 40,
     "metadata": {},
     "output_type": "execute_result"
    }
   ],
   "source": [
    "y_pred_nb_title[:,1]"
   ]
  },
  {
   "cell_type": "code",
   "execution_count": 41,
   "metadata": {
    "collapsed": false
   },
   "outputs": [],
   "source": [
    "pred_values = np.array([y_pred_nb_title[:,1], y_pred_nb_body[:,1], y_pred_nb_tags[:,1], y_pred_rfclf[:,1]])"
   ]
  },
  {
   "cell_type": "code",
   "execution_count": 42,
   "metadata": {
    "collapsed": false
   },
   "outputs": [
    {
     "data": {
      "text/plain": [
       "(4, 25000)"
      ]
     },
     "execution_count": 42,
     "metadata": {},
     "output_type": "execute_result"
    }
   ],
   "source": [
    "pred_values.shape"
   ]
  },
  {
   "cell_type": "code",
   "execution_count": 43,
   "metadata": {
    "collapsed": true
   },
   "outputs": [],
   "source": [
    "df_pred = pd.DataFrame(pred_values.T, columns=['NB_Title', 'NB_Body', 'NB_Tags', 'RF_OtherFeat'])"
   ]
  },
  {
   "cell_type": "code",
   "execution_count": null,
   "metadata": {
    "collapsed": true
   },
   "outputs": [],
   "source": [
    "df_pred['y_test'] = y_test.reset_index(drop=True)"
   ]
  },
  {
   "cell_type": "code",
   "execution_count": null,
   "metadata": {
    "collapsed": false
   },
   "outputs": [],
   "source": [
    "df_pred.head(10)"
   ]
  },
  {
   "cell_type": "markdown",
   "metadata": {},
   "source": [
    "## Average of Predicted Probabilities of all the Classifiers"
   ]
  },
  {
   "cell_type": "code",
   "execution_count": 49,
   "metadata": {
    "collapsed": false
   },
   "outputs": [
    {
     "name": "stdout",
     "output_type": "stream",
     "text": [
      "Log Loss: 0.10659121816\n"
     ]
    }
   ],
   "source": [
    "print ('Log Loss:', log_loss(y_test, df_pred.max(axis=1).values))"
   ]
  },
  {
   "cell_type": "markdown",
   "metadata": {},
   "source": [
    "## Voting Classifier"
   ]
  },
  {
   "cell_type": "code",
   "execution_count": null,
   "metadata": {
    "collapsed": false,
    "scrolled": true
   },
   "outputs": [],
   "source": [
    "from sklearn import cross_validation\n",
    "from sklearn.linear_model import LogisticRegression\n",
    "from sklearn.ensemble import VotingClassifier, ExtraTreesClassifier\n",
    "from sklearn.svm import SVC\n",
    "\n",
    "clf1 = LogisticRegression(n_jobs=-1)\n",
    "clf2 = RandomForestClassifier(n_jobs=-1)\n",
    "clf3 = SVC(probability=True)\n",
    "\n",
    "eclf = VotingClassifier(estimators=[('lr', clf1), ('rf', clf2), ('svc', clf3)], voting='hard')\n",
    "\n",
    "# define X and y\n",
    "X = df_pred[['NB_Title', 'NB_Body', 'NB_Tags', 'RF_OtherFeat']].values\n",
    "y = df_pred['y_test'].values\n",
    "\n",
    "eclf.fit(X, y)\n",
    "\n",
    "for clf, label in zip([clf1, clf2, clf3, eclf], ['Logistic Regression', 'Random Forest', 'SVC', 'Ensemble']):\n",
    "    scores = cross_validation.cross_val_score(clf, X, y, cv=5, scoring='precision')\n",
    "    print(\"Log Loss: %0.3f (+/- %0.3f) [%s]\" % (scores.mean(), scores.std(), label))"
   ]
  },
  {
   "cell_type": "markdown",
   "metadata": {},
   "source": [
    "# Predicting on Test Data"
   ]
  },
  {
   "cell_type": "code",
   "execution_count": 50,
   "metadata": {
    "collapsed": true
   },
   "outputs": [],
   "source": [
    "df_test = pd.read_table('test.csv', sep=',', parse_dates=[1,3])"
   ]
  },
  {
   "cell_type": "code",
   "execution_count": 51,
   "metadata": {
    "collapsed": false
   },
   "outputs": [],
   "source": [
    "df_test = clean_data(df_test)"
   ]
  },
  {
   "cell_type": "code",
   "execution_count": 52,
   "metadata": {
    "collapsed": true
   },
   "outputs": [],
   "source": [
    "X = df_test[['ReputationAtPostCreation', \n",
    "            'OwnerUndeletedAnswerCountAtPostTime', \n",
    "            'AccountCreationPostCreationDiff',\n",
    "            'Title_len',\n",
    "            'BodyMarkdown_len',\n",
    "            'Tags_len']]\n",
    "\n",
    "y_pred_rfclf = rfclf.predict_proba(X)"
   ]
  },
  {
   "cell_type": "code",
   "execution_count": 53,
   "metadata": {
    "collapsed": true
   },
   "outputs": [],
   "source": [
    "X = df_test['Title'].values\n",
    "\n",
    "X_dtm = vect_title.transform(X)\n",
    "y_pred_nb_title = nb_title.predict_proba(X_dtm)"
   ]
  },
  {
   "cell_type": "code",
   "execution_count": 54,
   "metadata": {
    "collapsed": true
   },
   "outputs": [],
   "source": [
    "X = df_test['BodyMarkdown_clean'].values\n",
    "\n",
    "X_dtm = vect_body.transform(X)\n",
    "y_pred_nb_body = nb_body.predict_proba(X_dtm)"
   ]
  },
  {
   "cell_type": "code",
   "execution_count": 55,
   "metadata": {
    "collapsed": true
   },
   "outputs": [],
   "source": [
    "X = df_test['Tags'].values\n",
    "\n",
    "X_dtm = vect_tags.transform(X)\n",
    "y_pred_nb_tags = nb_tags.predict_proba(X_dtm)"
   ]
  },
  {
   "cell_type": "code",
   "execution_count": 57,
   "metadata": {
    "collapsed": false
   },
   "outputs": [],
   "source": [
    "pred_values = np.array([y_pred_nb_title[:,1], y_pred_nb_body[:,1], y_pred_nb_tags[:,1], y_pred_rfclf[:,1]])\n",
    "#pred_values = np.array([y_pred_rfclf[:,1]])"
   ]
  },
  {
   "cell_type": "code",
   "execution_count": 58,
   "metadata": {
    "collapsed": false
   },
   "outputs": [],
   "source": [
    "df_pred = pd.DataFrame(pred_values.T, columns=['NB_Title', 'NB_Body', 'NB_Tags', 'RF_OtherFeat'])"
   ]
  },
  {
   "cell_type": "code",
   "execution_count": 59,
   "metadata": {
    "collapsed": false
   },
   "outputs": [
    {
     "data": {
      "text/html": [
       "<div>\n",
       "<table border=\"1\" class=\"dataframe\">\n",
       "  <thead>\n",
       "    <tr style=\"text-align: right;\">\n",
       "      <th></th>\n",
       "      <th>NB_Title</th>\n",
       "      <th>NB_Body</th>\n",
       "      <th>NB_Tags</th>\n",
       "      <th>RF_OtherFeat</th>\n",
       "    </tr>\n",
       "  </thead>\n",
       "  <tbody>\n",
       "    <tr>\n",
       "      <th>0</th>\n",
       "      <td>0.000857</td>\n",
       "      <td>1.177126e-06</td>\n",
       "      <td>0.017288</td>\n",
       "      <td>0.007500</td>\n",
       "    </tr>\n",
       "    <tr>\n",
       "      <th>1</th>\n",
       "      <td>0.007300</td>\n",
       "      <td>4.775158e-09</td>\n",
       "      <td>0.007949</td>\n",
       "      <td>0.000695</td>\n",
       "    </tr>\n",
       "    <tr>\n",
       "      <th>2</th>\n",
       "      <td>0.001520</td>\n",
       "      <td>1.899335e-07</td>\n",
       "      <td>0.001881</td>\n",
       "      <td>0.025000</td>\n",
       "    </tr>\n",
       "    <tr>\n",
       "      <th>3</th>\n",
       "      <td>0.001717</td>\n",
       "      <td>6.671659e-05</td>\n",
       "      <td>0.026743</td>\n",
       "      <td>0.002500</td>\n",
       "    </tr>\n",
       "    <tr>\n",
       "      <th>4</th>\n",
       "      <td>0.000886</td>\n",
       "      <td>1.723562e-07</td>\n",
       "      <td>0.001023</td>\n",
       "      <td>0.062500</td>\n",
       "    </tr>\n",
       "  </tbody>\n",
       "</table>\n",
       "</div>"
      ],
      "text/plain": [
       "   NB_Title       NB_Body   NB_Tags  RF_OtherFeat\n",
       "0  0.000857  1.177126e-06  0.017288      0.007500\n",
       "1  0.007300  4.775158e-09  0.007949      0.000695\n",
       "2  0.001520  1.899335e-07  0.001881      0.025000\n",
       "3  0.001717  6.671659e-05  0.026743      0.002500\n",
       "4  0.000886  1.723562e-07  0.001023      0.062500"
      ]
     },
     "execution_count": 59,
     "metadata": {},
     "output_type": "execute_result"
    }
   ],
   "source": [
    "df_pred.head()"
   ]
  },
  {
   "cell_type": "code",
   "execution_count": null,
   "metadata": {
    "collapsed": false
   },
   "outputs": [],
   "source": [
    "#y_pred = eclf.predict(df_pred)"
   ]
  },
  {
   "cell_type": "code",
   "execution_count": 60,
   "metadata": {
    "collapsed": false
   },
   "outputs": [],
   "source": [
    "#df_test['Prediction'] = y_pred[:,1]\n",
    "df_test['Prediction'] = df_pred.max(axis=1).values"
   ]
  },
  {
   "cell_type": "code",
   "execution_count": 61,
   "metadata": {
    "collapsed": false
   },
   "outputs": [
    {
     "data": {
      "text/html": [
       "<div>\n",
       "<table border=\"1\" class=\"dataframe\">\n",
       "  <thead>\n",
       "    <tr style=\"text-align: right;\">\n",
       "      <th></th>\n",
       "      <th>Id</th>\n",
       "      <th>Prediction</th>\n",
       "    </tr>\n",
       "  </thead>\n",
       "  <tbody>\n",
       "    <tr>\n",
       "      <th>0</th>\n",
       "      <td>11321133</td>\n",
       "      <td>0.017288</td>\n",
       "    </tr>\n",
       "    <tr>\n",
       "      <th>1</th>\n",
       "      <td>9881029</td>\n",
       "      <td>0.007949</td>\n",
       "    </tr>\n",
       "    <tr>\n",
       "      <th>2</th>\n",
       "      <td>6205599</td>\n",
       "      <td>0.025000</td>\n",
       "    </tr>\n",
       "    <tr>\n",
       "      <th>3</th>\n",
       "      <td>1787549</td>\n",
       "      <td>0.026743</td>\n",
       "    </tr>\n",
       "    <tr>\n",
       "      <th>4</th>\n",
       "      <td>8894724</td>\n",
       "      <td>0.062500</td>\n",
       "    </tr>\n",
       "  </tbody>\n",
       "</table>\n",
       "</div>"
      ],
      "text/plain": [
       "         Id  Prediction\n",
       "0  11321133    0.017288\n",
       "1   9881029    0.007949\n",
       "2   6205599    0.025000\n",
       "3   1787549    0.026743\n",
       "4   8894724    0.062500"
      ]
     },
     "execution_count": 61,
     "metadata": {},
     "output_type": "execute_result"
    }
   ],
   "source": [
    "df_test[['Id', 'Prediction']].head()"
   ]
  },
  {
   "cell_type": "code",
   "execution_count": 62,
   "metadata": {
    "collapsed": true
   },
   "outputs": [],
   "source": [
    "df_test[['Id', 'Prediction']].to_csv('submission3.csv', index=False)"
   ]
  },
  {
   "cell_type": "code",
   "execution_count": null,
   "metadata": {
    "collapsed": true
   },
   "outputs": [],
   "source": []
  }
 ],
 "metadata": {
  "kernelspec": {
   "display_name": "Python 3",
   "language": "python",
   "name": "python3"
  },
  "language_info": {
   "codemirror_mode": {
    "name": "ipython",
    "version": 3
   },
   "file_extension": ".py",
   "mimetype": "text/x-python",
   "name": "python",
   "nbconvert_exporter": "python",
   "pygments_lexer": "ipython3",
   "version": "3.5.1"
  }
 },
 "nbformat": 4,
 "nbformat_minor": 0
}
